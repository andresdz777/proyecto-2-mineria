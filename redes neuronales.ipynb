{
  "nbformat": 4,
  "nbformat_minor": 0,
  "metadata": {
    "colab": {
      "provenance": []
    },
    "kernelspec": {
      "name": "python3",
      "display_name": "Python 3"
    },
    "language_info": {
      "name": "python"
    }
  },
  "cells": [
    {
      "cell_type": "code",
      "source": [
        "import numpy as np\n",
        "import pandas as pd\n",
        "import tensorflow as tf\n",
        "from tensorflow.keras.models import Sequential\n",
        "from tensorflow.keras.layers import Dense\n",
        "from google.colab import drive\n",
        "drive.mount(\"/content/drive\")\n",
        "\n",
        "# Carga del archivo CSV\n",
        "data = pd.read_csv('/content/drive/My Drive/Mineria/vivienda.csv', encoding='latin1')\n",
        "\n",
        "# Mezcla de datos y reinicio de índices\n",
        "data = data.sample(frac=1, random_state=42).reset_index(drop=True)\n",
        "\n",
        "# 0 = Rural y 1 = Urbana\n",
        "data['AR'] = data['AREA'].apply(lambda x: 1 if x == 1 else 0)\n",
        "\n",
        "# Selección de características y variable objetivo\n",
        "X = data[['P02B01', 'P02B02A', 'P02B02B', 'P02B02C', 'P02B02D', 'P02B02E', 'P02B02F', 'P02B02G']]\n",
        "y = data['AR']\n",
        "\n",
        "# División del conjunto de datos\n",
        "from sklearn.model_selection import train_test_split\n",
        "X_train, X_test, y_train, y_test = train_test_split(X, y, test_size=0.2, random_state=42)\n",
        "\n",
        "# Limpieza y conversión de datos\n",
        "X_train = X_train.replace(' ', np.nan).dropna().astype('float32')\n",
        "y_train = y_train[X_train.index].astype('float32')\n",
        "\n",
        "X_test = X_test.replace(' ', np.nan).dropna().astype('float32')\n",
        "y_test = y_test[X_test.index].astype('float32')\n",
        "\n",
        "# Construcción del modelo\n",
        "model = Sequential()\n",
        "model.add(Dense(100, input_dim=8, activation='relu'))\n",
        "model.add(Dense(70, activation='relu'))\n",
        "model.add(Dense(50, activation='relu'))\n",
        "model.add(Dense(10, activation='relu'))\n",
        "model.add(Dense(1, activation='sigmoid'))\n",
        "\n",
        "# Compilación y entrenamiento del modelo\n",
        "model.compile(loss='binary_crossentropy', optimizer='adam', metrics=['accuracy'])\n",
        "model.fit(X_train, y_train, epochs=50, batch_size=128, validation_data=(X_test, y_test))\n",
        "\n",
        "# Evaluación del modelo\n",
        "loss, acc = model.evaluate(X_test, y_test)\n",
        "print(f\"Precisión del modelo: {acc * 100:.2f}%\")\n"
      ],
      "metadata": {
        "id": "ZZoefZDbHJMM"
      },
      "execution_count": null,
      "outputs": []
    },
    {
      "cell_type": "code",
      "source": [
        "# Predicción para nuevos datos\n",
        "vivienda = np.array([[1, 2, 2, 2, 2, 2, 2, 2]])\n",
        "p = model.predict(vivienda)\n",
        "\n",
        "# Interpretación de la predicción\n",
        "resultado = \"Área Rural\" if p < 0.5 else \"Área Urbana\"\n",
        "print(f\"Predicción: {resultado}\")"
      ],
      "metadata": {
        "id": "4gQvOApXEvtZ"
      },
      "execution_count": null,
      "outputs": []
    },
    {
      "cell_type": "code",
      "source": [
        "# Predicción para nuevos datos\n",
        "vivienda = np.array([[3, 2, 2, 2, 2, 2, 2, 2]])\n",
        "p = model.predict(vivienda)\n",
        "\n",
        "# Interpretación de la predicción\n",
        "resultado = \"Área Rural\" if p < 0.5 else \"Área Urbana\"\n",
        "print(f\"Predicción: {resultado}\")"
      ],
      "metadata": {
        "id": "psKPRWhhFtST"
      },
      "execution_count": null,
      "outputs": []
    },
    {
      "cell_type": "code",
      "source": [
        "import numpy as np\n",
        "import pandas as pd\n",
        "import tensorflow as tf\n",
        "from tensorflow.keras.models import Sequential\n",
        "from tensorflow.keras.layers import Dense\n",
        "from google.colab import drive\n",
        "drive.mount(\"/content/drive\")\n",
        "\n",
        "# Carga del archivo CSV\n",
        "data = pd.read_csv('/content/drive/My Drive/Mineria/vivienda.csv', encoding='latin1')\n",
        "\n",
        "# Mezcla de datos y reinicio de índices\n",
        "data = data.sample(frac=1, random_state=42).reset_index(drop=True)\n",
        "\n",
        "# 0 = Rural y 1 = Urbana\n",
        "data['AR'] = data['AREA'].apply(lambda x: 1 if x == 1 else 0)\n",
        "\n",
        "# Selección de características y variable objetivo\n",
        "X = data[['P01C01', 'P01C02A', 'P01C02B', 'P01C02C', 'P01C02D', 'P01C02E',\n",
        "          'P01C02F', 'P01C02G', 'P01C02H', 'P01C02I', 'P01C02J',\n",
        "          'P01C02K', 'P01C02L', 'P01C02M']]\n",
        "y = data['AR']\n",
        "\n",
        "# División del conjunto de datos\n",
        "from sklearn.model_selection import train_test_split\n",
        "X_train, X_test, y_train, y_test = train_test_split(X, y, test_size=0.2, random_state=42)\n",
        "\n",
        "# Limpieza y conversión de datos\n",
        "X_train = X_train.replace(' ', np.nan).dropna().astype('float32')\n",
        "y_train = y_train[X_train.index].astype('float32')\n",
        "\n",
        "X_test = X_test.replace(' ', np.nan).dropna().astype('float32')\n",
        "y_test = y_test[X_test.index].astype('float32')\n",
        "\n",
        "# Construcción del modelo\n",
        "model = Sequential()\n",
        "model.add(Dense(100, input_dim=14, activation='relu'))\n",
        "model.add(Dense(70, activation='relu'))\n",
        "model.add(Dense(50, activation='relu'))\n",
        "model.add(Dense(10, activation='relu'))\n",
        "model.add(Dense(1, activation='sigmoid'))\n",
        "\n",
        "# Compilación y entrenamiento del modelo\n",
        "model.compile(loss='binary_crossentropy', optimizer='adam', metrics=['accuracy'])\n",
        "model.fit(X_train, y_train, epochs=50, batch_size=128, validation_data=(X_test, y_test))\n",
        "\n",
        "# Evaluación del modelo\n",
        "loss, acc = model.evaluate(X_test, y_test)\n",
        "print(f\"Precisión del modelo: {acc * 100:.2f}%\")\n"
      ],
      "metadata": {
        "id": "-u-9dNR8GntS"
      },
      "execution_count": null,
      "outputs": []
    },
    {
      "cell_type": "code",
      "source": [
        "\n",
        "# Predicción para nuevos datos\n",
        "vivienda = np.array([[1, 1, 1, 1, 1, 1, 1, 1, 1, 1, 1, 1, 1, 1]])\n",
        "p = model.predict(vivienda)\n",
        "\n",
        "# Interpretación de la predicción\n",
        "resultado = \"Área Rural\" if p < 0.5 else \"Área Urbana\"\n",
        "print(f\"Predicción: {resultado}\")"
      ],
      "metadata": {
        "id": "zfAgOP9rNnC9"
      },
      "execution_count": null,
      "outputs": []
    }
  ]
}